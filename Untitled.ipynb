{
  "metadata": {
    "language_info": {
      "codemirror_mode": {
        "name": "python",
        "version": 3
      },
      "file_extension": ".py",
      "mimetype": "text/x-python",
      "name": "python",
      "nbconvert_exporter": "python",
      "pygments_lexer": "ipython3",
      "version": "3.8"
    },
    "kernelspec": {
      "name": "python",
      "display_name": "Python (Pyodide)",
      "language": "python"
    }
  },
  "nbformat_minor": 4,
  "nbformat": 4,
  "cells": [
    {
      "cell_type": "markdown",
      "source": "# My Jupyter Notebook on IBM Watson Studio \n##### Cristina Jones Data Analyst\n\n### I am interested in data science because, I have always had a huge curiosty in numbers and patterns. Data science seems like the perfect field for my curiosty and ability to storytell.\n\n### The following code will show the product of the equation\n\n5*23",
      "metadata": {}
    },
    {
      "cell_type": "code",
      "source": "5*23",
      "metadata": {
        "trusted": true
      },
      "execution_count": 1,
      "outputs": [
        {
          "execution_count": 1,
          "output_type": "execute_result",
          "data": {
            "text/plain": "115"
          },
          "metadata": {}
        }
      ]
    },
    {
      "cell_type": "markdown",
      "source": "- As you can see the product of 5*23 is 115 \n\n2. Being able to know the basics of this program is really cool\n\n*** Is this correct *** ",
      "metadata": {}
    },
    {
      "cell_type": "markdown",
      "source": "",
      "metadata": {}
    }
  ]
}
